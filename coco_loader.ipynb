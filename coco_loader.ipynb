{
 "cells": [
  {
   "cell_type": "code",
   "execution_count": 2,
   "metadata": {},
   "outputs": [],
   "source": [
    "from collections import defaultdict\n",
    "import json\n",
    "import numpy as np\n",
    "\n",
    "class COCOParser:\n",
    "    def __init__(self, anns_file, imgs_dir):\n",
    "        with open(anns_file, 'r') as f:\n",
    "            coco = json.load(f)\n",
    "            \n",
    "        self.annIm_dict = defaultdict(list)        \n",
    "        self.cat_dict = {} \n",
    "        self.annId_dict = {}\n",
    "        self.im_dict = {}\n",
    "        self.licenses_dict = {}\n",
    "\n",
    "        for ann in coco['annotations']:           \n",
    "            self.annIm_dict[ann['image_id']].append(ann) \n",
    "            self.annId_dict[ann['id']]=ann\n",
    "        for img in coco['images']:\n",
    "            self.im_dict[img['id']] = img\n",
    "        for cat in coco['categories']:\n",
    "            self.cat_dict[cat['id']] = cat\n",
    "        for license in coco['licenses']:\n",
    "            self.licenses_dict[license['id']] = license\n",
    "\n",
    "    def get_imgIds(self):\n",
    "        return list(self.im_dict.keys())\n",
    "\n",
    "    def get_annIds(self, im_ids):\n",
    "        im_ids=im_ids if isinstance(im_ids, list) else [im_ids]\n",
    "        return [ann['id'] for im_id in im_ids for ann in self.annIm_dict[im_id]]\n",
    "\n",
    "    def load_anns(self, ann_ids):\n",
    "        im_ids=ann_ids if isinstance(ann_ids, list) else [ann_ids]\n",
    "        return [self.annId_dict[ann_id] for ann_id in ann_ids]        \n",
    "\n",
    "    def load_cats(self, class_ids):\n",
    "        class_ids=class_ids if isinstance(class_ids, list) else [class_ids]\n",
    "        return [self.cat_dict[class_id] for class_id in class_ids]\n",
    "\n",
    "    def get_imgLicenses(self,im_ids):\n",
    "        im_ids=im_ids if isinstance(im_ids, list) else [im_ids]\n",
    "        lic_ids = [self.im_dict[im_id][\"license\"] for im_id in im_ids]\n",
    "        return [self.licenses_dict[lic_id] for lic_id in lic_ids]"
   ]
  },
  {
   "cell_type": "code",
   "execution_count": 3,
   "metadata": {},
   "outputs": [],
   "source": [
    "coco_annotations_file=\"/data/lx_pantos/annotation_231031/0/instances_default.json\"\n",
    "coco_images_dir=\"/data/lx_pantos/images\"\n",
    "coco= COCOParser(coco_annotations_file, coco_images_dir)"
   ]
  },
  {
   "cell_type": "code",
   "execution_count": 4,
   "metadata": {},
   "outputs": [
    {
     "name": "stdout",
     "output_type": "stream",
     "text": [
      "931\n"
     ]
    },
    {
     "data": {
      "image/png": "[encoded data removed]",
      "text/plain": [
       "<Figure size 1080x720 with 4 Axes>"
      ]
     },
     "metadata": {
      "needs_background": "light"
     },
     "output_type": "display_data"
    }
   ],
   "source": [
    "import matplotlib.pyplot as plt\n",
    "from PIL import Image\n",
    "import numpy as np\n",
    "\n",
    "# define a list of colors for drawing bounding boxes\n",
    "color_list = [\"pink\", \"red\", \"teal\", \"blue\", \"orange\", \"yellow\", \"black\", \"magenta\",\"green\",\"aqua\"]*10\n",
    "\n",
    "num_imgs_to_disp = 4\n",
    "total_images = len(coco.get_imgIds()) # total number of images\n",
    "sel_im_idxs = np.random.permutation(total_images)[:num_imgs_to_disp]\n",
    "\n",
    "img_ids = coco.get_imgIds()\n",
    "selected_img_ids = [img_ids[i] for i in sel_im_idxs]\n",
    "\n",
    "ann_ids = coco.get_annIds(selected_img_ids)\n",
    "im_licenses = coco.get_imgLicenses(selected_img_ids)\n",
    "\n",
    "fig, ax = plt.subplots(nrows=2, ncols=2, figsize=(15,10))\n",
    "ax = ax.ravel()\n",
    "\n",
    "for i, im in enumerate(selected_img_ids):\n",
    "    print(im)\n",
    "    break\n",
    "    image = Image.open(f\"{coco_images_dir}/{str(im).zfill(12)}.jpg\")\n",
    "    ann_ids = coco.get_annIds(im)\n",
    "    annotations = coco.load_anns(ann_ids)\n",
    "    for ann in annotations:\n",
    "        bbox = ann['bbox']\n",
    "        x, y, w, h = [int(b) for b in bbox]\n",
    "        class_id = ann[\"category_id\"]\n",
    "        class_name = coco.load_cats(class_id)[0][\"name\"]\n",
    "        license = coco.get_imgLicenses(im)[0][\"name\"]\n",
    "        color_ = color_list[class_id]\n",
    "        rect = plt.Rectangle((x, y), w, h, linewidth=2, edgecolor=color_, facecolor='none')\n",
    "\n",
    "        t_box=ax[i].text(x, y, class_name,  color='red', fontsize=10)\n",
    "        t_box.set_bbox(dict(boxstyle='square, pad=0',facecolor='white', alpha=0.6, edgecolor='blue'))\n",
    "        ax[i].add_patch(rect)\n",
    "    \n",
    "\n",
    "    ax[i].axis('off')\n",
    "    ax[i].imshow(image)\n",
    "    ax[i].set_xlabel('Longitude')\n",
    "    ax[i].set_title(f\"License: {license}\")\n",
    "\n",
    "plt.tight_layout()\n",
    "plt.show()"
   ]
  },
  {
   "cell_type": "code",
   "execution_count": null,
   "metadata": {},
   "outputs": [],
   "source": []
  }
 ],
 "metadata": {
  "kernelspec": {
   "display_name": "det",
   "language": "python",
   "name": "python3"
  },
  "language_info": {
   "codemirror_mode": {
    "name": "ipython",
    "version": 3
   },
   "file_extension": ".py",
   "mimetype": "text/x-python",
   "name": "python",
   "nbconvert_exporter": "python",
   "pygments_lexer": "ipython3",
   "version": "3.8.12"
  },
  "orig_nbformat": 4
 },
 "nbformat": 4,
 "nbformat_minor": 2
}
