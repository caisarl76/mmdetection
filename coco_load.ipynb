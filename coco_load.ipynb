{
 "cells": [
  {
   "cell_type": "code",
   "execution_count": 59,
   "metadata": {},
   "outputs": [],
   "source": [
    "%matplotlib inline\n",
    "from pycocotools.coco import COCO\n",
    "import numpy as np\n",
    "import skimage.io as io\n",
    "import matplotlib.pyplot as plt\n",
    "import pylab\n",
    "import os\n",
    "import json\n",
    "pylab.rcParams['figure.figsize'] = (8.0, 10.0)"
   ]
  },
  {
   "cell_type": "code",
   "execution_count": 60,
   "metadata": {},
   "outputs": [],
   "source": [
    "ann_list = [\n",
    "    '/data/lx_pantos/annotation_231031/0/instances_default.json',\n",
    "    '/data/lx_pantos/annotation_231031/1/instances_default.json',\n",
    "    '/data/lx_pantos/annotation_231031/2/instances_default.json',\n",
    "    '/data/lx_pantos/annotation_231031/3/instances_default.json',\n",
    "    '/data/lx_pantos/annotation_231031/4/instances_default.json',\n",
    "]"
   ]
  },
  {
   "cell_type": "code",
   "execution_count": 61,
   "metadata": {},
   "outputs": [],
   "source": [
    "data_list = []\n",
    "for ann in ann_list:\n",
    "    with open(ann, 'r') as f:\n",
    "        data = json.load(f)\n",
    "    data_list.append(data)"
   ]
  },
  {
   "cell_type": "code",
   "execution_count": 67,
   "metadata": {},
   "outputs": [],
   "source": [
    "data_all = {\n",
    "    'licenses':data['licenses'],\n",
    "    'info':data['info'],\n",
    "    'categories':data['categories'],\n",
    "    'images':[],\n",
    "    'annotations':[]\n",
    "}"
   ]
  },
  {
   "cell_type": "code",
   "execution_count": 68,
   "metadata": {},
   "outputs": [],
   "source": [
    "img_idx = 0\n",
    "ann_idx = 0\n",
    "for d in data_list:\n",
    "    for img in d['images']:\n",
    "        # print(img)\n",
    "        img['id'] += img_idx\n",
    "        data_all['images'].append(img)\n",
    "        # break\n",
    "    \n",
    "    for ann in d['annotations']:\n",
    "        ann['id'] += ann_idx\n",
    "        ann['image_id'] += img_idx\n",
    "        data_all['annotations'].append(ann)\n",
    "    img_idx += len(d['images'])\n",
    "    ann_idx += len(d['annotations'])"
   ]
  },
  {
   "cell_type": "code",
   "execution_count": 71,
   "metadata": {},
   "outputs": [
    {
     "data": {
      "text/plain": [
       "19665"
      ]
     },
     "execution_count": 71,
     "metadata": {},
     "output_type": "execute_result"
    }
   ],
   "source": [
    "# len(data_all['images'])\n",
    "img_idx"
   ]
  },
  {
   "cell_type": "code",
   "execution_count": 65,
   "metadata": {},
   "outputs": [
    {
     "name": "stdout",
     "output_type": "stream",
     "text": [
      "{'id': 1, 'image_id': 1, 'category_id': 2, 'segmentation': {'counts': [233113, 3, 793, 9, 787, 15, 781, 20, 776, 25, 773, 28, 769, 33, 764, 36, 761, 39, 759, 41, 755, 45, 752, 48, 749, 51, 747, 53, 744, 55, 742, 58, 739, 60, 737, 63, 734, 65, 733, 65, 734, 63, 736, 62, 737, 61, 738, 59, 741, 57, 743, 55, 744, 54, 746, 51, 749, 48, 752, 46, 754, 44, 756, 41, 759, 39, 761, 37, 763, 34, 766, 31, 770, 28, 772, 26, 775, 23, 778, 20, 781, 17, 784, 15, 787, 11, 791, 7, 212534], 'size': [800, 600]}, 'area': 1741.0, 'bbox': [291.0, 250.0, 44.0, 75.0], 'iscrowd': 1, 'attributes': {'occluded': False}}\n"
     ]
    }
   ],
   "source": [
    "total_img = 0\n",
    "for img in data['annotations']:\n",
    "    print(img)\n",
    "    break"
   ]
  },
  {
   "cell_type": "code",
   "execution_count": 72,
   "metadata": {},
   "outputs": [],
   "source": [
    "with open('/data/lx_pantos/annotation_231031/all_annotations.json', 'w') as f:\n",
    "    json.dump(data_all, f)"
   ]
  },
  {
   "cell_type": "code",
   "execution_count": null,
   "metadata": {},
   "outputs": [],
   "source": [
    "\"\"\"<s>[INST] <<SYS>>\n",
    "{{ system_prompt }}\n",
    "<</SYS>>\n",
    "\n",
    "{{ user_msg_1 }} [/INST] {{ model_answer_1 }} </s><s>[INST] {{ user_msg_2 }} [/INST]\"\"\""
   ]
  }
 ],
 "metadata": {
  "kernelspec": {
   "display_name": "det",
   "language": "python",
   "name": "python3"
  },
  "language_info": {
   "codemirror_mode": {
    "name": "ipython",
    "version": 3
   },
   "file_extension": ".py",
   "mimetype": "text/x-python",
   "name": "python",
   "nbconvert_exporter": "python",
   "pygments_lexer": "ipython3",
   "version": "3.8.18"
  },
  "orig_nbformat": 4
 },
 "nbformat": 4,
 "nbformat_minor": 2
}
